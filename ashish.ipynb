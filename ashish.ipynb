{
 "cells": [
  {
   "cell_type": "code",
   "execution_count": null,
   "id": "ebae8bbc",
   "metadata": {},
   "outputs": [
    {
     "name": "stdout",
     "output_type": "stream",
     "text": [
      "Enter the atomic number of the element: 100\n",
      "The electronic configuration is: 1s2 2s2 2p6 3s2 3p6 4s2 3d10 4p6 5s2 4d10 5p6 6s2 4f14 5d10 6p6 7s2 5f12\n"
     ]
    }
   ],
   "source": [
    "def electronic_configuration(atomic_number):\n",
    "    orbitals = ['1s', '2s', '2p', '3s', '3p', '4s', '3d', '4p', '5s', '4d', '5p', '6s', '4f', '5d', '6p', '7s', '5f', '6d', '7p']\n",
    "    max_electrons = {'s': 2, 'p': 6, 'd': 10, 'f': 14}\n",
    "    configuration = []\n",
    "    e = atomic_number\n",
    "    for orbital in orbitals:\n",
    "        if e <= 0:\n",
    "            break\n",
    "        sublevel = orbital[-1]\n",
    "        max_e = min(max_electrons[sublevel], e)\n",
    "        configuration.append(f\"{orbital}{max_e}\")\n",
    "        e -= max_e\n",
    "    return ' '.join(configuration)\n",
    "atomic_number = int(input(\"Enter the atomic number of the element: \"))\n",
    "config = electronic_configuration(atomic_number)\n",
    "print(f\"The electronic configuration is: {config}\")\n"
   ]
  },
  {
   "cell_type": "code",
   "execution_count": null,
   "id": "7291093c",
   "metadata": {},
   "outputs": [
    {
     "ename": "",
     "evalue": "",
     "output_type": "error",
     "traceback": [
      "\u001b[1;31mRunning cells with 'c:\\Users\\dell\\AppData\\Local\\Programs\\Python\\Python311\\python.exe' requires the ipykernel package.\n",
      "\u001b[1;31mRun the following command to install 'ipykernel' into the Python environment. \n",
      "\u001b[1;31mCommand: 'c:/Users/dell/AppData/Local/Programs/Python/Python311/python.exe -m pip install ipykernel -U --user --force-reinstall'"
     ]
    }
   ],
   "source": [
    "def electronic_configuration(atomic_number):\n",
    "    orbitals = ['1s', '2s', '2p', '3s', '3p', '4s', '3d', '4p', '5s', '4d', '5p', '6s', '4f', '5d', '6p', '7s', '5f', '6d', '7p']\n",
    "    max_electrons = {'s': 2, 'p': 6, 'd': 10, 'f': 14}\n",
    "    configuration = []\n",
    "    e = atomic_number\n",
    "    for orbital in orbitals:\n",
    "        if e <= 0:\n",
    "            break\n",
    "        sublevel = orbital[-1]\n",
    "        max_e = min(max_electrons[sublevel], e)\n",
    "        configuration.append(f\"{orbital}{max_e}\")\n",
    "        e -= max_e\n",
    "    return ' '.join(configuration)\n",
    "atomic_number = int(input(\"Enter the atomic number of the element: \"))\n",
    "config = electronic_configuration(atomic_number)\n",
    "print(f\"The electronic configuration is: {config}\")\n"
   ]
  }
 ],
 "metadata": {
  "kernelspec": {
   "display_name": "Python 3 (ipykernel)",
   "language": "python",
   "name": "python3"
  },
  "language_info": {
   "codemirror_mode": {
    "name": "ipython",
    "version": 3
   },
   "file_extension": ".py",
   "mimetype": "text/x-python",
   "name": "python",
   "nbconvert_exporter": "python",
   "pygments_lexer": "ipython3",
   "version": "3.11.4"
  }
 },
 "nbformat": 4,
 "nbformat_minor": 5
}
